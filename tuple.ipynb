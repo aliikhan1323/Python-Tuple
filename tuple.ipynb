{
 "cells": [
  {
   "cell_type": "markdown",
   "metadata": {},
   "source": [
    "# 1. Tuple in Python\n",
    "\n",
    "A **tuple** is an ordered, unchangeable collection that allows duplicate values.\n"
   ]
  },
  {
   "cell_type": "code",
   "execution_count": 1,
   "metadata": {},
   "outputs": [
    {
     "name": "stdout",
     "output_type": "stream",
     "text": [
      "This is tuple:\n",
      "('Audi', 'Changan', 'Daihatsu', 'Honda', 'Nissan', 'Toyota', 'Suzuki') (1, 5, 3, 4, 9) (12.5, 3.5, 12.4, 99.66, 123.321) (True, False) ('Audi', 3, 3.9, True)\n"
     ]
    }
   ],
   "source": [
    "#Define a Tuple(ordered, unchangeable, Allow Duplicate)\n",
    "string=(\"Audi\",\"Changan\",\"Daihatsu\",\"Honda\",\"Nissan\",\"Toyota\", \"Suzuki\")\n",
    "integer=(1,5,3,4,9)\n",
    "float=(12.5, 3.5, 12.4, 99.66, 123.321)\n",
    "bool=(True,False)\n",
    "mix=(\"Audi\",3,3.9,True)\n",
    "print(\"This is tuple:\")\n",
    "print(string,integer,float,bool,mix)\n"
   ]
  },
  {
   "cell_type": "markdown",
   "metadata": {},
   "source": [
    "### 2. 🔢 Display Data Type using Python\n",
    "\n",
    "This contains a simple Python script that demonstrates how to display the data type of a variable using the type() function.\n",
    "This script helps users understand how to check the data type of a variable in Python using the built-in type() function."
   ]
  },
  {
   "cell_type": "code",
   "execution_count": 2,
   "metadata": {},
   "outputs": [
    {
     "name": "stdout",
     "output_type": "stream",
     "text": [
      "Display data type of tuple:\n",
      "<class 'tuple'>\n"
     ]
    }
   ],
   "source": [
    "#To display the data type using type() function\n",
    "print(\"Display data type of tuple:\")\n",
    "print(type(mix))"
   ]
  },
  {
   "cell_type": "markdown",
   "metadata": {},
   "source": [
    " ### 3.📏 Display Length of Tuple using Python\n",
    "\n",
    "This contains a simple Python script that demonstrates how to display the length of a list using the len() function.\n"
   ]
  },
  {
   "cell_type": "code",
   "execution_count": null,
   "metadata": {},
   "outputs": [],
   "source": [
    "#Display length of list using len() function.\n",
    "print(\"This is length of tuple:\")\n",
    "print(len(bool))\n"
   ]
  },
  {
   "cell_type": "markdown",
   "metadata": {},
   "source": [
    "### 4. 🍏 Access Tuple Items in Python\n",
    "\n",
    "This contains a simple Python script that demonstrates how to access items in a tuple using indexing and slicing techniques.\n"
   ]
  },
  {
   "cell_type": "code",
   "execution_count": 3,
   "metadata": {},
   "outputs": [
    {
     "name": "stdout",
     "output_type": "stream",
     "text": [
      "Access Tuple Items:\n",
      "banana\n",
      "('banana', 'mango', 'orange')\n",
      "('apple', 'banana', 'mango')\n",
      "('banana', 'mango')\n",
      "('banana', 'mango')\n",
      "orange\n"
     ]
    }
   ],
   "source": [
    "# Access Tuple Items\n",
    "print(\"Access Tuple Items:\")\n",
    "fruits = (\"apple\", \"banana\", \"mango\", \"orange\")\n",
    "print(fruits[1]) # Index\n",
    "print(fruits[1:]) # From index 1 to the end\n",
    "print(fruits[:3]) # From the start to index 2\n",
    "print(fruits[1:3]) # Positive range\n",
    "print(fruits[-3:-1]) # Negative range\n",
    "print(fruits[-1]) # Negative index"
   ]
  },
  {
   "cell_type": "markdown",
   "metadata": {},
   "source": [
    "### 4. 🍏 Access Tuple Items in Python\n",
    "\n",
    "This contains a simple Python script that demonstrates how to access items in a tuple using indexing and slicing techniques.\n",
    "\n"
   ]
  },
  {
   "cell_type": "code",
   "execution_count": 4,
   "metadata": {},
   "outputs": [
    {
     "name": "stdout",
     "output_type": "stream",
     "text": [
      "Access Tuple Items:\n",
      "banana\n",
      "('banana', 'mango', 'orange')\n",
      "('apple', 'banana', 'mango')\n",
      "('banana', 'mango')\n",
      "('banana', 'mango')\n",
      "orange\n"
     ]
    }
   ],
   "source": [
    "# Access Tuple Items\n",
    "print(\"Access Tuple Items:\")\n",
    "fruits = (\"apple\", \"banana\", \"mango\", \"orange\")\n",
    "print(fruits[1]) # Index\n",
    "print(fruits[1:]) # From index 1 to the end\n",
    "print(fruits[:3]) # From the start to index 2\n",
    "print(fruits[1:3]) # Positive range\n",
    "print(fruits[-3:-1]) # Negative range\n",
    "print(fruits[-1]) # Negative index"
   ]
  },
  {
   "cell_type": "markdown",
   "metadata": {},
   "source": [
    "### 5. 🍎 Check if an Item Exists in a Tuple\n",
    "\n",
    "This contains a simple Python script that demonstrates how to check if an item exists in a tuple using the in keyword.\n",
    "This script helps users verify whether a specific element is present in a tuple in Python.\n",
    "\n"
   ]
  },
  {
   "cell_type": "code",
   "execution_count": 5,
   "metadata": {},
   "outputs": [
    {
     "name": "stdout",
     "output_type": "stream",
     "text": [
      "Yes, 'apple' is in the fruits tuple\n"
     ]
    }
   ],
   "source": [
    "#Check if \"apple\" exists in the tuple\n",
    "fruits=(\"apple\",\"banana\",\"mango\",\"orange\") #Check if Item is exist.\n",
    "if \"apple\" in fruits:\n",
    "  print(\"Yes, 'apple' is in the fruits tuple\")\n"
   ]
  },
  {
   "cell_type": "markdown",
   "metadata": {},
   "source": [
    "### 6. 🔄 Change Tuple Values in Python\n",
    "\n",
    "This contains a simple Python script that demonstrates how to modify tuple values by converting a tuple into a list and back."
   ]
  },
  {
   "cell_type": "code",
   "execution_count": 6,
   "metadata": {},
   "outputs": [
    {
     "name": "stdout",
     "output_type": "stream",
     "text": [
      "Change Tuple values:\n",
      "('Face Book', 'Twitter', 'Whatsapp')\n"
     ]
    }
   ],
   "source": [
    "# Change Tuple values\n",
    "print(\"Change Tuple values:\") # Convert the tuple into a list.\n",
    "x = (\"Face Book\", \"Instagram\", \"Whatsapp\")\n",
    "y = list(x)\n",
    "y[1] = \"Twitter\"\n",
    "x = tuple(y)\n",
    "print(x)"
   ]
  },
  {
   "cell_type": "markdown",
   "metadata": {},
   "source": [
    "### 7:➕ Add Items to a Tuple in Python\n",
    "\n",
    "This contains a simple Python script that demonstrates how to add items to a tuple by converting it into a list or using tuple concatenation.\n",
    "This script helps users understand how to add elements to a tuple, which is immutable, by converting it to a list or by using tuple concatenation."
   ]
  },
  {
   "cell_type": "code",
   "execution_count": 8,
   "metadata": {},
   "outputs": [
    {
     "name": "stdout",
     "output_type": "stream",
     "text": [
      "Addition in Tuple:\n",
      "('apple', 'banana', 'mango', 'orange')\n",
      "Add Tuple into a Tuple:\n",
      "('apple', 'banana', 'cherry', 'orange')\n"
     ]
    }
   ],
   "source": [
    "# Add Items in Tuple\n",
    "print(\"Addition in Tuple:\")\n",
    "fruits = (\"apple\", \"banana\", \"mango\") # Convert the tuple into a list.\n",
    "y = list(fruits)\n",
    "y.append(\"orange\") # Using append() function\n",
    "fruits = tuple(y)\n",
    "print(fruits)\n",
    "\n",
    "# Add Tuple to a Tuple\n",
    "print(\"Add Tuple into a Tuple:\")\n",
    "fruits = (\"apple\", \"banana\", \"cherry\") # Tuple + Tuple1\n",
    "fruit1 = (\"orange\",)\n",
    "fruits += fruit1 # Using + function\n",
    "print(fruits)"
   ]
  },
  {
   "cell_type": "markdown",
   "metadata": {},
   "source": [
    "### 8. 🗑️ Remove Items from a Tuple in Python\n",
    "\n",
    " This contains a simple Python script that demonstrates how to remove an item from a tuple by converting it into a list."
   ]
  },
  {
   "cell_type": "code",
   "execution_count": 9,
   "metadata": {},
   "outputs": [
    {
     "name": "stdout",
     "output_type": "stream",
     "text": [
      "('banana', 'cherry')\n"
     ]
    }
   ],
   "source": [
    "# Remove Items\n",
    "fruits = (\"apple\", \"banana\", \"cherry\") # Convert the tuple into a list\n",
    "fruit1 = list(fruits)\n",
    "fruit1.remove(\"apple\") # Using remove() function\n",
    "fruits = tuple(fruit1)\n",
    "print(fruits)"
   ]
  },
  {
   "cell_type": "markdown",
   "metadata": {},
   "source": [
    "### 9. 🔗 Join and Multiply Tuples in Python\n",
    "\n",
    "This contains a simple Python script that demonstrates how to join two tuples and multiply tuples in Python.\n",
    "\n",
    "Uses the + operator to join two tuples.\n",
    "\n",
    "Uses the * operator to repeat the elements of a tuple.\n",
    "\n",
    "Demonstrates two different ways of manipulating tuples in Python."
   ]
  },
  {
   "cell_type": "code",
   "execution_count": 11,
   "metadata": {},
   "outputs": [
    {
     "name": "stdout",
     "output_type": "stream",
     "text": [
      "Join two Tuples:\n",
      "('a', 'b', 'c')\n",
      "(1, 2, 3)\n",
      "Addition of two Tuples: ('a', 'b', 'c', 1, 2, 3)\n",
      "Multiply the Tuples by 2:\n",
      "('apple', 'banana', 'cherry', 'apple', 'banana', 'cherry')\n"
     ]
    }
   ],
   "source": [
    "# Join two tuples\n",
    "print(\"Join two Tuples:\")\n",
    "alphabets = (\"a\", \"b\", \"c\")\n",
    "numbers = (1, 2, 3)\n",
    "print(alphabets)\n",
    "print(numbers)\n",
    "new = alphabets + numbers  # Using + operator\n",
    "print(\"Addition of two Tuples:\", new)\n",
    "\n",
    "# Multiply Tuples\n",
    "print(\"Multiply the Tuples by 2:\")\n",
    "fruits = (\"apple\", \"banana\", \"cherry\")\n",
    "fruits = fruits * 2\n",
    "print(fruits)"
   ]
  },
  {
   "cell_type": "markdown",
   "metadata": {},
   "source": [
    "### 10. 🔢 Find Maximum and Minimum Numbers in a Tuple\n",
    "\n",
    "This contains a simple Python script that demonstrates how to find the maximum and minimum numbers in a tuple using built-in functions.\n",
    "\n",
    "Uses the max() function to find the highest number.\n",
    "\n",
    "Uses the min() function to find the lowest number."
   ]
  },
  {
   "cell_type": "code",
   "execution_count": 12,
   "metadata": {},
   "outputs": [
    {
     "name": "stdout",
     "output_type": "stream",
     "text": [
      "Find the Maximum and Minimum Number:\n",
      "Maximum Number in tuple: 90\n",
      "Minimum Number in tuple: 3\n"
     ]
    }
   ],
   "source": [
    "# Find the maximum and minimum numbers in the tuple\n",
    "print(\"Find the Maximum and Minimum Number:\")\n",
    "num = (10, 25, 5, 78, 90, 3, 55)\n",
    "print(\"Maximum Number in tuple:\", max(num)) # Using max() function\n",
    "print(\"Minimum Number in tuple:\", min(num)) # Using min() function"
   ]
  }
 ],
 "metadata": {
  "kernelspec": {
   "display_name": "Python 3",
   "language": "python",
   "name": "python3"
  },
  "language_info": {
   "codemirror_mode": {
    "name": "ipython",
    "version": 3
   },
   "file_extension": ".py",
   "mimetype": "text/x-python",
   "name": "python",
   "nbconvert_exporter": "python",
   "pygments_lexer": "ipython3",
   "version": "3.10.0"
  }
 },
 "nbformat": 4,
 "nbformat_minor": 2
}
